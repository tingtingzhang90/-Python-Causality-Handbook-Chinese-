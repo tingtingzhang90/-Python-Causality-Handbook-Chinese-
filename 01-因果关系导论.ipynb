{
 "cells": [
  {
   "cell_type": "markdown",
   "metadata": {},
   "source": [
    "# 01 - 因果关系导论\n",
    "\n",
    "\n",
    "## 何苦呢？\n",
    "\n",
    "首先，你可能想知道：它对我有什么好处呢？接下来我将解释为什么：\n",
    "\n",
    "## 数据科学不在像过去（或者它终于是的样子）\n",
    "\n",
    "数据科学被哈佛商业评论评为[21世纪最性感的职业](https://hbr.org/2012/10/data-scientist-the-sexiest-job-of-the-21st-century)。这不是空话。十年来，数据科学家一直是人们关注的焦点。人工智能专家的[薪水可与体育巨星相媲美](https://www.economist.com/business/2016/04/02/million-dollar-babies)。在追求名利的过程中，数百名年轻的专业人士进入了一场看似狂热的淘金热，以尽快获得数据科学的头衔。整个新行业都围绕着炒作而兴起。神奇的教学方法可以让你成为数据科学家，而无需看一个数学公式。如果你的公司能够释放数据的潜力，咨询专家承诺你将获得数百万美元的回报。人工智能或机器学习被称为新电力，而数据被称为新石油。\n",
    "\n",
    "与此同时，我们有点忘记了那些一直在用数据做“老式”科学的人。在这段时间里，经济学家试图回答教育对一个人收入的真正影响是什么，生物统计学家试图了解饱和脂肪是否会导致更高的心脏病发作几率，心理学家试图了解言语上的肯定是否真的能带来更幸福的婚姻。老实说，数据科学家并不是一个新兴领域。由于媒体提供了大量的免费营销，我们才刚刚意识到这一点。\n",
    "\n",
    "使用Jim Collins的比喻，想想给自己倒一杯你最喜欢的冰镇啤酒。如果你以正确的方式执行此操作，杯中大部分将是啤酒，但顶部会有一节手指厚的泡沫层。这个杯子就像数据科学。\n",
    "\n",
    "1. 它是啤酒。统计基础、科学好奇心和对难题的热情。数百年来，所有这些都被证明是非常有价值的。\n",
    "2. 他是泡沫。建立在不切实际的期望之上的蓬松东西最终会消失。\n",
    "\n",
    "这层泡沫可能比你想象地更快地垮下来。正如经济学人所说\n",
    "\n",
    "> 那些预测人工智能将产生改变世界影响的咨询顾问还报告说，现实公司中的真正管理者发现人工智能很难实施，而且对它的热情正在降温。研究公司Gartner的Svetlana Sicular表示，2020年可能是人工智能跌入其公司广为人知的“炒作周期”下坡的一年。投资者开始意识到赶潮流：风险投资基金MMC对欧洲人工智能初创公司的一项调查发现，其中40%似乎根本没有使用任何人工智能。\n",
    "\n",
    "在所有这些热潮中，作为数据科学家——或者更进一步说，作为“只是”科学家——我们应该做什么？作为初学者，如果你很聪明，你将学会忽略泡沫。我们是为了啤酒。数学和统计学一直很有用，现在不太可能停止。其次，学习是什么让你的工作有价值和有用，而不是没有人想出如何使用的最新闪亮工具。\n",
    "\n",
    "最后，请记住没有捷径可走。数学和统计学知识之所以有价值，正是因为它们很难被掌握。如果每个人都能做到，供应过剩就会压低价格。所以，**加油**！尽可能地学习它们。哎呀，为什么不呢？一路上玩得开心，因为我们只为**勇敢和真实**而启程。\n",
    "\n",
    "![img](./data/img/intro/tougher-up-cupcake1.jpg)"
   ]
  },
  {
   "cell_type": "markdown",
   "metadata": {},
   "source": [
    "## 回答不同类型的问题\n",
    "\n",
    "机器学习目前非常擅长回答预测类型的问题。正如Ajay Agrawal、Joshua Gans和Avi Goldfarb在《预测机器》一书中所说，“人工智能的新浪潮实际上并没有给我们带来智能，而是智能的一个关键组成部分——预测”。我们可以用机器学习做各种美妙的事情。唯一的要求是我们将问题构建为预测问题。想从英语翻译成葡萄牙语？那么构建一个机器学习模型，在给定英语句子时预测葡萄牙语句子。想识别人脸？那么构建一个机器学习模型，该模型可以预测图片中是否存在人脸。想造一辆自动驾驶汽车吗？那么构建一个机器学习模型来通过汽车周围的图像和传感器来预测车轮的方向和油门压力。\n",
    "\n",
    "然而，机器学习并不是万能的。它可以在非常严格的边界下创造奇迹，但如果它使用的数据与模型习惯的数据略有不同，它仍然会失败。再举一个来自预测机器的例子，“在许多行业中，低价格与低销售额相关。例如，在酒店行业，在旅游旺季之外价格低，而在需求最高且酒店已满时价格高。基于这些数据，一个幼稚的预测可能会显示提高价格会导致售出更多房间。”\n",
    "\n",
    "机器学习在这种逆因果关系类型的问题上是出了名的糟糕。它们要求我们回答“假如”问题，经济学家称之为反事实。如果我目前要求的商品不是这个价格，而是使用另一个价格，会发生什么情况？如果我不采用这种低脂饮食，而是采用低糖饮食，会发生什么？如果你在银行工作，负责提供信贷，你将必须弄清楚更改客户线会如何改变你的收入。或者，如果你在当地政府工作，你可能会被要求弄清楚如何改善学校教育系统。你是否应该因为数字知识时代告诉你的而将平板电脑送给每个孩子？或者你应该建造一个老式的图书馆？\n",
    "\n",
    "这些问题的核心是我们希望通过因果调查知道答案。因果问题渗透到日常问题中，例如弄清楚如何提高销售额，但它们也在我们非常个人的和宝贵的困境中发挥重要作用：我是否必须上一所昂贵的学校才能在生活中取得成功（教育会导致收入提升吗）？移民是否会降低我找到工作的机会（移民是否会导致失业率上升）？向穷人汇款会降低犯罪率吗？不管你在哪个领域，很可能你已经或将不得不回答某种类型的因果问题。非常不幸的是，对于机器学习，我们不能依靠相关类型预测来解决它们。\n",
    "\n",
    "回答这类问题比大多数人想象的要困难。你的父母可能已经向你反复说过“相关不是因果”，“相关不是因果”。但实际上要解释为什么会这样。这就是因果推理导论的全部内容。至于本书的其余部分，它将致力于**弄清楚如何使相关成为因果**。"
   ]
  },
  {
   "cell_type": "markdown",
   "metadata": {},
   "source": [
    "## 当相关就是因果\n",
    "\n",
    "直觉上，我们有点儿知道为什么相关不是因果。如果有人告诉你，为学生提供平板电脑的学校比不提供平板电脑的学校表现更好，你可以很快指出，那些配备平板电脑的学校可能更富有。因此，即使没有平板电脑，他们的表现也会比平均水平更好。因此，我们不能得出结论，在课堂上给孩子们使用平板电脑会提高他们的学习成绩。我们只能说学校的平板电脑与高学习成绩有关。"
   ]
  },
  {
   "cell_type": "code",
   "execution_count": 2,
   "metadata": {
    "ExecuteTime": {
     "end_time": "2021-07-11T11:47:47.268389Z",
     "start_time": "2021-07-11T11:47:47.193591Z"
    },
    "jupyter": {
     "outputs_hidden": true
    }
   },
   "outputs": [
    {
     "data": {
      "text/html": [
       "<div>\n",
       "<style scoped>\n",
       "    .dataframe tbody tr th:only-of-type {\n",
       "        vertical-align: middle;\n",
       "    }\n",
       "\n",
       "    .dataframe tbody tr th {\n",
       "        vertical-align: top;\n",
       "    }\n",
       "\n",
       "    .dataframe thead th {\n",
       "        text-align: right;\n",
       "    }\n",
       "</style>\n",
       "<table border=\"1\" class=\"dataframe\">\n",
       "  <thead>\n",
       "    <tr style=\"text-align: right;\">\n",
       "      <th></th>\n",
       "      <th>enem_score</th>\n",
       "      <th>Tuition</th>\n",
       "      <th>Tablet</th>\n",
       "    </tr>\n",
       "  </thead>\n",
       "  <tbody>\n",
       "    <tr>\n",
       "      <th>0</th>\n",
       "      <td>227.622953</td>\n",
       "      <td>674.0</td>\n",
       "      <td>False</td>\n",
       "    </tr>\n",
       "    <tr>\n",
       "      <th>1</th>\n",
       "      <td>219.079925</td>\n",
       "      <td>1299.0</td>\n",
       "      <td>True</td>\n",
       "    </tr>\n",
       "    <tr>\n",
       "      <th>2</th>\n",
       "      <td>400.889622</td>\n",
       "      <td>1085.0</td>\n",
       "      <td>False</td>\n",
       "    </tr>\n",
       "    <tr>\n",
       "      <th>3</th>\n",
       "      <td>122.761509</td>\n",
       "      <td>548.0</td>\n",
       "      <td>False</td>\n",
       "    </tr>\n",
       "    <tr>\n",
       "      <th>4</th>\n",
       "      <td>315.064276</td>\n",
       "      <td>826.0</td>\n",
       "      <td>False</td>\n",
       "    </tr>\n",
       "  </tbody>\n",
       "</table>\n",
       "</div>"
      ],
      "text/plain": [
       "   enem_score  Tuition  Tablet\n",
       "0  227.622953    674.0   False\n",
       "1  219.079925   1299.0    True\n",
       "2  400.889622   1085.0   False\n",
       "3  122.761509    548.0   False\n",
       "4  315.064276    826.0   False"
      ]
     },
     "execution_count": 2,
     "metadata": {},
     "output_type": "execute_result"
    }
   ],
   "source": [
    "import pandas as pd\n",
    "import numpy as np\n",
    "from scipy.special import expit\n",
    "import seaborn as sns\n",
    "from matplotlib import pyplot as plt\n",
    "from matplotlib import style\n",
    "\n",
    "%matplotlib inline\n",
    "\n",
    "import warnings\n",
    "warnings.filterwarnings(\"ignore\")\n",
    "\n",
    "style.use(\"fivethirtyeight\")\n",
    "\n",
    "np.random.seed(123)\n",
    "n = 100\n",
    "tuition = np.random.normal(1000, 300, n).round()\n",
    "tablet = np.random.binomial(1, expit((tuition - tuition.mean()) / tuition.std())).astype(bool)\n",
    "enem_score = np.random.normal(200 - 50 * tablet + 0.7 * tuition, 200)\n",
    "enem_score = (enem_score - enem_score.min()) / enem_score.max()\n",
    "enem_score *= 1000\n",
    "\n",
    "data = pd.DataFrame(dict(enem_score=enem_score, Tuition=tuition, Tablet=tablet))\n",
    "\n",
    "data.head()"
   ]
  },
  {
   "cell_type": "code",
   "execution_count": 3,
   "metadata": {
    "ExecuteTime": {
     "end_time": "2021-07-11T11:48:23.093372Z",
     "start_time": "2021-07-11T11:48:22.892874Z"
    }
   },
   "outputs": [
    {
     "data": {
      "text/plain": [
       "Text(0.5, 1.0, 'ENEM score by Tablet in Class')"
      ]
     },
     "execution_count": 3,
     "metadata": {},
     "output_type": "execute_result"
    },
    {
     "data": {
      "image/png": "[encoded data removed]",
      "text/plain": [
       "<Figure size 432x576 with 1 Axes>"
      ]
     },
     "metadata": {},
     "output_type": "display_data"
    }
   ],
   "source": [
    "plt.figure(figsize=(6,8))\n",
    "sns.boxplot(y=\"enem_score\", x=\"Tablet\", data=data).set_title('ENEM score by Tablet in Class')"
   ]
  },
  {
   "cell_type": "markdown",
   "metadata": {},
   "source": [
    "为了超越简单的直觉，让我们首先创建一些符号。这将是我们谈论因果关系的共同语言。把它想象成我们将用来识别其他勇敢和真实的因果战士的通用语言，它将在未来的许多战斗中谱写我们的呼声。\n",
    "\n",
    "让我们称\\\\(T_i\\\\)为单元i的处理输入。\n",
    "\n",
    "$\n",
    "T_i=\\begin{cases}\n",
    "1 \\ \\text{if unit i received the treatment}\\\\\n",
    "0 \\ \\text{otherwise}\\\\\n",
    "\\end{cases}\n",
    "$\n",
    "\n",
    "这里的处理不需要是药物或医学领域的任何东西。相反，它只是一个术语，我们将用它来表示一些我们想知道其效果的干预。在我们的案例中，处理是给学生服用药片。作为旁注，你有时可能会看到\\\\(D\\\\)而不是\\\\(T\\\\)来表示处理。\n",
    "\n",
    "现在，我们用\\\\(Y_i\\\\)来表示单元i的观测结果变量。\n",
    "\n",
    "$\n",
    "Y_i\n",
    "$\n",
    "\n",
    "结果是我们感兴趣的变量。我们想知道处理是否对结果有任何影响。在我们的平板电脑示例中，它将是学习成绩。\n",
    "\n",
    "这就是事情变得有趣的地方。因果推断的基本问题是我们永远无法在经过处理和未经处理的情况下观察到同一个单元。就好像我们有两条不同的道路，我们只能知道我们走的那条路前面有什么。正如Robert Frost的诗\n",
    "\n",
    ">Two roads diverged in a yellow wood,  \n",
    "And sorry I could not travel both  \n",
    "And be one traveler, long I stood  \n",
    "And looked down one as far as I could  \n",
    "To where it bent in the undergrowth;  \n",
    "\n",
    "为了解决这个问题，我们将在**潜在结果**方面进行很多讨论。因为它们实际上并没有发生，所以他们是潜在的。相反，它们表示在采取某些处理的情况下**可能会发生什么**。我们有时将发生的潜在结果称为事实，而将未发生的潜在结果称为反事实。\n",
    "\n",
    "至于符号，我们使用了一个额外的下标：\n",
    "\n",
    "\\\\(Y_{0i}\\\\) 单元i在未处理下的潜在结果。\n",
    "\n",
    "\\\\(Y_{1i}\\\\) **同一个**单元i在处理下的潜在结果。\n",
    "\n",
    "有时你可能会看到潜在结果被表示称函数\\\\(Y_i(t)\\\\)，所以请注意，\\\\(Y_{0i}\\\\)可能是\\\\(Y_i(0)\\\\)和\\\\(Y_{1i}\\\\)可能是\\\\(Y_i(1)\\\\)。在这里，我们大部分时候将使用下标符号。\n",
    "\n",
    "![img](./data/img/intro/potential_outcomes.png)\n",
    "\n",
    "回到我们的例子中，\\\\(Y_{1i}\\\\)是学生i在带平板电脑的教室里的学习成绩。不管是不是这样，对于\\\\(Y_{1i}\\\\)都没有关系。不管怎样都是一样的。如果学生i拿到平板电脑，我们可以观察到\\\\(Y_{1i}\\\\)。如果没有，我们可以观察到\\\\(Y_{0i}\\\\)。注意在最后一种情况下，\\\\(Y_{1i}\\\\)仍然是定义的，我们只是看不到它。在这种情况下，这是一个反事实的潜在结果。\n",
    "\n",
    "有了潜在结果，我们可以定义个体处理效应：\n",
    "\n",
    " \\\\(Y_{1i} - Y_{0i}\\\\)\n",
    "\n",
    "当然，由于因果推理的根本问题，我们永远无法知道个体的处理效应，因为我们只观察到一种潜在结果。此刻，让我们关注一些比估计个体处理效应更容易的事情。代替地，让我们关注**平均处理效果**，其定义如下。\n",
    "\n",
    "\\\\(ATE = E[Y_1 - Y_0]\\\\)\n",
    "\n",
    "其中，`E[...]`是期望。另一个更容易估计的数量是**对处理者的平均处理效应**\n",
    "\n",
    "\\\\(ATET = E[Y_1 - Y_0 | T=1]\\\\)\n",
    "\n",
    "现在，我知道我们无法看到两种潜在的结果，但为了辩论，我们假设我们可以。假设因果推理之神对我们进行的许多统计斗争感到满意，并以上帝般的力量奖励我们，以查看替代的潜在结果。有了这种能力，假设我们收集了4所学校的数据。我们知道他们是否向学生提供平板电脑以及他们在某些年度学术测试中的分数。在这里，平板电脑是处理，所以\\\\(T=1\\\\)如果学校向孩子们提供平板电脑。\\\\(Y\\\\)将是测试分数。"
   ]
  },
  {
   "cell_type": "code",
   "execution_count": 3,
   "metadata": {},
   "outputs": [
    {
     "data": {
      "text/html": [
       "<div>\n",
       "<style scoped>\n",
       "    .dataframe tbody tr th:only-of-type {\n",
       "        vertical-align: middle;\n",
       "    }\n",
       "\n",
       "    .dataframe tbody tr th {\n",
       "        vertical-align: top;\n",
       "    }\n",
       "\n",
       "    .dataframe thead th {\n",
       "        text-align: right;\n",
       "    }\n",
       "</style>\n",
       "<table border=\"1\" class=\"dataframe\">\n",
       "  <thead>\n",
       "    <tr style=\"text-align: right;\">\n",
       "      <th></th>\n",
       "      <th>i</th>\n",
       "      <th>y0</th>\n",
       "      <th>y1</th>\n",
       "      <th>t</th>\n",
       "      <th>y</th>\n",
       "      <th>te</th>\n",
       "    </tr>\n",
       "  </thead>\n",
       "  <tbody>\n",
       "    <tr>\n",
       "      <th>0</th>\n",
       "      <td>1</td>\n",
       "      <td>500</td>\n",
       "      <td>450</td>\n",
       "      <td>0</td>\n",
       "      <td>500</td>\n",
       "      <td>-50</td>\n",
       "    </tr>\n",
       "    <tr>\n",
       "      <th>1</th>\n",
       "      <td>2</td>\n",
       "      <td>600</td>\n",
       "      <td>600</td>\n",
       "      <td>0</td>\n",
       "      <td>600</td>\n",
       "      <td>0</td>\n",
       "    </tr>\n",
       "    <tr>\n",
       "      <th>2</th>\n",
       "      <td>3</td>\n",
       "      <td>800</td>\n",
       "      <td>600</td>\n",
       "      <td>1</td>\n",
       "      <td>600</td>\n",
       "      <td>-200</td>\n",
       "    </tr>\n",
       "    <tr>\n",
       "      <th>3</th>\n",
       "      <td>4</td>\n",
       "      <td>700</td>\n",
       "      <td>750</td>\n",
       "      <td>1</td>\n",
       "      <td>750</td>\n",
       "      <td>50</td>\n",
       "    </tr>\n",
       "  </tbody>\n",
       "</table>\n",
       "</div>"
      ],
      "text/plain": [
       "   i   y0   y1  t    y   te\n",
       "0  1  500  450  0  500  -50\n",
       "1  2  600  600  0  600    0\n",
       "2  3  800  600  1  600 -200\n",
       "3  4  700  750  1  750   50"
      ]
     },
     "execution_count": 3,
     "metadata": {},
     "output_type": "execute_result"
    }
   ],
   "source": [
    "pd.DataFrame(dict(\n",
    "    i= [1,2,3,4],\n",
    "    y0=[500,600,800,700],\n",
    "    y1=[450,600,600,750],\n",
    "    t= [0,0,1,1],\n",
    "    y= [500,600,600,750],\n",
    "    te=[-50,0,-200,50],\n",
    "))"
   ]
  },
  {
   "cell_type": "markdown",
   "metadata": {},
   "source": [
    "此处的平均处理效应（ATE）是最后一列的平均数，也就是说，处理效应为：\n",
    "\n",
    "\\\\(ATE=(-50 + 0 - 200 + 50)/4 = -50\\\\)\n",
    "\n",
    "这意味着平板电脑会使学生的学习成绩平均降低50分。这里的\\\\(ATET\\\\)将是最后一列当\\\\(T=1\\\\)时的平均值：\n",
    "\n",
    "\\\\(ATET=(- 200 + 50)/2 = -75\\\\)\n",
    "\n",
    "也就是说，对于接受处理的学校，平板电脑使学生的学习成绩平均降低了75分。当然，我们永远无法知道这一点。实际上，上表如下所示："
   ]
  },
  {
   "cell_type": "code",
   "execution_count": 4,
   "metadata": {
    "ExecuteTime": {
     "end_time": "2021-07-11T12:18:08.923477Z",
     "start_time": "2021-07-11T12:18:08.906521Z"
    }
   },
   "outputs": [
    {
     "data": {
      "text/html": [
       "<div>\n",
       "<style scoped>\n",
       "    .dataframe tbody tr th:only-of-type {\n",
       "        vertical-align: middle;\n",
       "    }\n",
       "\n",
       "    .dataframe tbody tr th {\n",
       "        vertical-align: top;\n",
       "    }\n",
       "\n",
       "    .dataframe thead th {\n",
       "        text-align: right;\n",
       "    }\n",
       "</style>\n",
       "<table border=\"1\" class=\"dataframe\">\n",
       "  <thead>\n",
       "    <tr style=\"text-align: right;\">\n",
       "      <th></th>\n",
       "      <th>i</th>\n",
       "      <th>y0</th>\n",
       "      <th>y1</th>\n",
       "      <th>t</th>\n",
       "      <th>y</th>\n",
       "      <th>te</th>\n",
       "    </tr>\n",
       "  </thead>\n",
       "  <tbody>\n",
       "    <tr>\n",
       "      <th>0</th>\n",
       "      <td>1</td>\n",
       "      <td>500.0</td>\n",
       "      <td>NaN</td>\n",
       "      <td>0</td>\n",
       "      <td>500</td>\n",
       "      <td>NaN</td>\n",
       "    </tr>\n",
       "    <tr>\n",
       "      <th>1</th>\n",
       "      <td>2</td>\n",
       "      <td>600.0</td>\n",
       "      <td>NaN</td>\n",
       "      <td>0</td>\n",
       "      <td>600</td>\n",
       "      <td>NaN</td>\n",
       "    </tr>\n",
       "    <tr>\n",
       "      <th>2</th>\n",
       "      <td>3</td>\n",
       "      <td>NaN</td>\n",
       "      <td>600.0</td>\n",
       "      <td>1</td>\n",
       "      <td>600</td>\n",
       "      <td>NaN</td>\n",
       "    </tr>\n",
       "    <tr>\n",
       "      <th>3</th>\n",
       "      <td>4</td>\n",
       "      <td>NaN</td>\n",
       "      <td>750.0</td>\n",
       "      <td>1</td>\n",
       "      <td>750</td>\n",
       "      <td>NaN</td>\n",
       "    </tr>\n",
       "  </tbody>\n",
       "</table>\n",
       "</div>"
      ],
      "text/plain": [
       "   i     y0     y1  t    y  te\n",
       "0  1  500.0    NaN  0  500 NaN\n",
       "1  2  600.0    NaN  0  600 NaN\n",
       "2  3    NaN  600.0  1  600 NaN\n",
       "3  4    NaN  750.0  1  750 NaN"
      ]
     },
     "execution_count": 4,
     "metadata": {},
     "output_type": "execute_result"
    }
   ],
   "source": [
    "pd.DataFrame(dict(\n",
    "    i= [1,2,3,4],\n",
    "    y0=[500,600,np.nan,np.nan],\n",
    "    y1=[np.nan,np.nan,600,750],\n",
    "    t= [0,0,1,1],\n",
    "    y= [500,600,600,750],\n",
    "    te=[np.nan,np.nan,np.nan,np.nan],\n",
    "))"
   ]
  },
  {
   "cell_type": "markdown",
   "metadata": {},
   "source": [
    "你可能会说，这肯定不理想，但我不能仍然采用处理过的平均值并将其与未处理过的平均值进行比较吗？换句话说，我不能只做\\\\(ATE=(600+750)/2 - (500 + 600)/2 = 125\\\\)吗？嗯，不！注意结果的不同。那是因为你刚刚犯下了将相关误认为因果关系的最严重的罪行。要了解原因，让我们来看看因果推理的主要敌人。"
   ]
  },
  {
   "cell_type": "markdown",
   "metadata": {},
   "source": [
    "## 偏差\n",
    "\n",
    "偏见是使得相关不同于因果的原因。幸运的是，我们的直觉很容易理解。让我们回顾一下在课堂示例中的平板电脑。当面对声称为孩子提供平板电脑的学校获得更高考试成绩的说法时，我们可以反驳说，即使没有平板电脑，这些学校也可能会获得更高的考试成绩。那是因为他们可能比其他学校有更多的钱；因此，他们可以支付更好的老师，负担更好的教室等等。换句话说，经过处理的学校（使用平板电脑）与未经处理的学校没有可比性。\n",
    "\n",
    "用潜在结果符号表示这一点就是说处理组的\\\\(Y_0\\\\)与未处理的\\\\(Y_0\\\\)不同。请记住，处理组的\\\\(Y_0\\\\)是**反事实的**。我们无法观察它，但我们可以推理它。在这种特殊情况下，我们甚至可以利用我们对世界如何运作的理解走得更远。我们可以说，接受处理的学校的\\\\(Y_0\\\\)可能大于未处理学校的\\\\(Y_0\\\\)。这是因为有能力为孩子提供平板电脑的学校也可以负担其他有助于提高考试成绩的因素。让我们先把这个放置一会儿。习惯谈论潜在结果需要一些时间。再读一遍这一段，确保你理解了它。\n",
    "\n",
    "考虑到这一点，我们可以用非常简单的数学来说明为什么相关不是因果。相关是通过\\\\(E[Y|T=1] - E[Y|T=0]\\\\)来衡量的。在我们的示例中，这是有平板电脑的学校的平均考试成绩减去没有平板电脑的学校的平均考试成绩。另一方面，因果关系由\\\\(E[Y_1 - Y_0]\\\\)衡量。\n",
    "\n",
    "为了了解它们之间的关系，让我们进行相关测量并将观测到结果替换为潜在结果。对于处理组，观测结果是\\\\(Y_1\\\\)。对于未处理组，观测结果是\\\\(Y_0\\\\)。\n",
    "\n",
    "$\n",
    "E[Y|T=1] - E[Y|T=0] = E[Y_1|T=1] - E[Y_0|T=0]\n",
    "$\n",
    "\n",
    "现在，让我们加减\\\\(E[Y_0|T=1]\\\\)。这是一个反事实的结果。它说明如果他们没有接受处理，处理组的结果会是什么。\n",
    "\n",
    "$\n",
    "E[Y|T=1] - E[Y|T=0] = E[Y_1|T=1] - E[Y_0|T=0] + E[Y_0|T=1] - E[Y_0|T=1]\n",
    "$\n",
    "\n",
    "最后，我们对术语重新排序，合并一些期望，然后瞧：\n",
    "\n",
    "$\n",
    "E[Y|T=1] - E[Y|T=0] = \\underbrace{E[Y_1 - Y_0|T=1]}_{ATET} + \\underbrace{\\{ E[Y_0|T=1] - E[Y_0|T=0] \\}}_{BIAS}\n",
    "$\n",
    "\n",
    "这段简单的数学包含了我们在因果问题中会遇到的所有问题。我再怎么强调你了解它的方方面面是多么重要都不为过。如果你被迫在手臂上纹身，这个方程应该是一个很好的候选者。这是一件非常值得抓住的事情，并且真正理解告诉我们什么，就像一些可以用100种不同方式解释的神圣文本。事实上，让我们更深入地了解一下。让我们把它分解成它的一些含义。首先，这个等式说明了为什么相关不是因果。正如我们所看到的，相关等于对被处理组的处理效应加上一个偏差项。**偏差是由处理组和对照组在处理前的差异决定的，也就是说，如果他们都没有接受处理**。当有人告诉我们教室里的平板电脑可以提高学习成绩时，我们现在可以准确地说出为什么我们会怀疑。我们认为，这个例子是\\\\(E[Y_0|T=0] < E[Y_0|T=1]\\\\)，也就是说，有能力为孩子提供平板电脑的学校比那些不能，**不管是否存在平板电脑**。\n",
    "\n",
    "为什么会发生这种情况？当我们考虑混淆时，我们将更多地讨论这一点，但现在你可以想成是偏差引起的，因为许多我们无法控制的事情随着处理而发生变化。因此，经过处理和未经处理的学校不仅在平板电脑上有所不同。他们在学费、地点、师资等方面也有所不同……如果我们说课堂上的平板电脑可以提高学习成绩，我们就需要有和没有平板电脑的学校平均而言彼此相似。"
   ]
  },
  {
   "cell_type": "code",
   "execution_count": 5,
   "metadata": {
    "ExecuteTime": {
     "end_time": "2021-07-11T13:03:52.689540Z",
     "start_time": "2021-07-11T13:03:52.135177Z"
    }
   },
   "outputs": [
    {
     "data": {
      "image/png": "[encoded data removed]",
      "text/plain": [
       "<Figure size 720x432 with 1 Axes>"
      ]
     },
     "metadata": {},
     "output_type": "display_data"
    }
   ],
   "source": [
    "plt.figure(figsize=(10,6))\n",
    "sns.scatterplot(x=\"Tuition\", y=\"enem_score\", hue=\"Tablet\", data=data, s=70).set_title('ENEM score by Tuition Cost')\n",
    "plt.show()"
   ]
  },
  {
   "cell_type": "markdown",
   "metadata": {},
   "source": [
    "现在我们了解了问题，让我们看看解决方案。我们也可以说使相关等于因果是必要的。**如果\\\\(E[Y_0|T=0] = E[Y_0|T=1]\\\\)，那么，相关就是因果！** 理解这一点不仅仅是记住方程式。这里有一个强烈的直觉论证。说\\\\(E[Y_0|T=0] = E[Y_0|T=1]\\\\)就是说处理组和对照组在处理前具有可比性。或者，在被处理组没有被处理的情况下，如果我们可以观察到它的\\\\(Y_0\\\\)，那么它的结果将与未处理的相同。在数学上，偏差项会消失：\n",
    "\n",
    "$\n",
    "E[Y|T=1] - E[Y|T=0] = E[Y_1 - Y_0|T=1] = ATET\n",
    "$\n",
    " \n",
    "同样地，如果处理组和未处理组仅在处理本身上不同，也就是\\\\(E[Y_0|T=0] = E[Y_0|T=1]\\\\)\n",
    "\n",
    "我们认为对处理的因果影响与未处理的相同（因为它们非常相似）。\n",
    "\n",
    "$\n",
    "\\begin{align}\n",
    "E[Y_1 - Y_0|T=1] &= E[Y_1|T=1] - E[Y_0|T=1] \\\\\n",
    "&= E[Y_1|T=1] - E[Y_0|T=0] \\\\\n",
    "&= E[Y|T=1] - E[Y|T=0]\n",
    "\\end{align}\n",
    "$\n",
    "\n",
    "不仅如此，\\\\(E[Y_1 - Y_0|T=1]=E[Y_1 - Y_0|T=0]\\\\)，仅仅因为经过处理和未经处理是可以互换的。因此，在这种情况下，**均值的差异成为因果效应**：\n",
    "\n",
    "$\n",
    "E[Y|T=1] - E[Y|T=0] = ATET = ATE\n",
    "$\n",
    "\n",
    "再一次，这非常重要，我认为值得再看一遍，现在有漂亮的图片。如果我们在处理组和未处理组之间做一个简单的平均比较，这就是我们得到的（蓝点没有接受处理，也就是平板电脑）：\n",
    "\n",
    "![img](./data/img/intro/anatomy1.png)\n",
    "\n",
    "请注意两组之间的结果差异可能有两个原因：\n",
    "\n",
    "1. 处理效应。给孩子平板电脑导致的考试分数增加。\n",
    "2. 处理组和未处理组之间的其他不属于处理本身的差异。在这种情况下，处理组和未处理组的区别在于处理组的学费要高得多。考试成绩的一些差异可能是由于学费价格对更好的教育的影响。\n",
    "\n",
    "真正的处理效应只有在我们拥有观察潜在结果的神力时才能获得，如下左图所示。个体处理效应是该单元的结果与同一单元在获得替代处理的情况下将具有的另一个理论结果之间的差异。这些是反事实结果，以浅色表示。\n",
    "\n",
    "![img](./data/img/intro/anatomy2.png)\n",
    "\n",
    "在右边的图中，我们描述了我们之前讨论过的偏见是什么。如果我们让每个人都不接受处理，我们就会产生偏见。在这种情况下，我们只剩下\\\\(T_0\\\\)潜在结果。然后，我们看到处理组和未处理组有何不同。如果他们不同，则意味着处理之外的其他因素导致处理组和未处理组的不同。这就是偏差，是真实处理效应的阴影。\n",
    "\n",
    "现在，将此与没有偏差的假设情况进行对比。假设平板电脑被随机分配给学校。在这种情况下，贫富学校接受处理的机会是一样的。处理将很好地分布在所有学费范围内。\n",
    "\n",
    "![img](./data/img/intro/anatomy3.png)\n",
    "\n",
    "在这种情况下，处理组和未处理组在结果的差异是平均因果效应。发生这种情况是因为除了处理本身之外，处理组和未处理组之间没有其他差异来源。我们看到的所有差异都必须归因于它。另一种说法是没有偏差。\n",
    "\n",
    "![img](./data/img/intro/anatomy4.png)\n",
    "\n",
    "如果我们将每个人都设置为不接受处理，只观察\\\\(Y_0\\\\)s，我们将发现处理组和未处理组之间没有差异。\n",
    "\n",
    "这就是因果推理的艰巨任务。这是关于寻找消除偏差的巧妙方法，使处理组的和未处理组具有可比性，以便我们看到它们之间的所有差异只是平均处理效应。归根结底，因果推断是要弄清楚世界是如何运转的，排除所有的错觉和误解。现在我们明白了这一点，我们可以继续掌握一些最强大的方法来消除偏差，用勇敢和真实的武器来确定因果效应。"
   ]
  },
  {
   "cell_type": "markdown",
   "metadata": {},
   "source": [
    "## 关键思想\n",
    "\n",
    "到目前为止，我们已经看到相关不是因果。最重要的是，我们已经确切地看到了为什么它不是，以及我们如何使相关成为因果。我们还引入了潜在结果符号，作为围绕因果推理的一种方式。有了它，我们将统计视为两种潜在的现实：一种是给予处理，另一种是不给予处理。但是，不幸的是，我们只能测量其中之一，这就是因果推断的根本问题所在。\n",
    "\n",
    "\n",
    "接下来，我们将看到一些估计因果效应的基本技术，从随机试验的黄金标准开始。随着我们的进展，我还将回顾一些统计概念。我将以在因果推理课程中经常使用的引述作为结尾，该引述取自功夫系列：\n",
    "\n",
    "> 'What happens in a man's life is already written. A man must move through life as his destiny wills.' -Caine  \n",
    "'Yes, yet each man is free to live as he chooses. Though they seem opposite, both are true.' -Old Man"
   ]
  },
  {
   "cell_type": "markdown",
   "metadata": {},
   "source": [
    "## 参看文献\n",
    "\n",
    "我想将这整个系列视为对Joshua Angrist、Alberto Abadie 和Christopher Walters令人惊叹的计量经济学课程的致敬。第一部分中的大部分想法均来自他们在美国经济学会的课程。学习这些课程让我在2020年艰难的一年保持清醒。\n",
    "\n",
    "* [Cross-Section Econometrics](https://www.aeaweb.org/conference/cont-ed/2017-webcasts)\n",
    "* [Mastering Mostly Harmless Econometrics](https://www.aeaweb.org/conference/cont-ed/2020-webcasts)\n",
    "\n",
    "我还想推荐Angrist的精彩书籍。这些书向我展示了计量经济学，或者他们所说的“度量”，不仅非常有用，而且非常有趣。\n",
    "\n",
    "* [Mostly Harmless Econometrics](https://www.mostlyharmlesseconometrics.com/)\n",
    "* [Mastering 'Metrics](https://www.masteringmetrics.com/)\n",
    "\n",
    "我最后推荐Miguel Hernan和Jamie Robins的书。在我必须回答的最棘手的因果问题中，它一直是我值得信赖的伙伴。\n",
    "\n",
    "My final reference is Miguel Hernan and Jamie Robins' book. It has been my trustworthy companion in the most thorny causal questions I had to answer.\n",
    "\n",
    "* [Causal Inference Book](https://www.hsph.harvard.edu/miguel-hernan/causal-inference-book/)\n",
    "\n",
    "关于啤酒的比喻来自于JL Colins的精彩[股票系列](https://jlcollinsnh.com/2012/04/15/stocks-part-1-theres-a-major-market-crash-coming-and-dr-lo-cant-save-you/)。对于那些想要通过学习如果对他们的钱进行高效投资的人来说，这绝对是一个比读物。\n",
    "\n",
    "![img](./data/img/poetry.png)"
   ]
  },
  {
   "cell_type": "markdown",
   "metadata": {},
   "source": [
    "##  贡献\n",
    "\n",
    "《献给勇敢而真实的人的因果推断》是关于因果推断和统计科学的开源资料。本书仅使用基于Python的免费软件。本书的目的做到金钱以及知识上的可得到性。如果你觉得这本书有价值，并且你想支持它，请前往[Patreon](https://www.patreon.com/causal_inference_for_the_brave_and_true)。如果你还没有准备好进行金钱打赏，你也可以通过修正一些拼写错误、建议编辑或者对你不理解的段落进行反馈来提供帮助。只需转到本书的资源库并[开启一个问题](https://github.com/matheusfacure/python-causality-handbook/issues)。最后，如果你喜欢本书的内容，请把它分享给那些可能觉得有用的人，并在GitHub上给它[点赞](https://github.com/matheusfacure/python-causality-handbook/stargazers)吧。"
   ]
  },
  {
   "cell_type": "code",
   "execution_count": null,
   "metadata": {},
   "outputs": [],
   "source": []
  }
 ],
 "metadata": {
  "kernelspec": {
   "display_name": "Python 3",
   "language": "python",
   "name": "python3"
  },
  "language_info": {
   "codemirror_mode": {
    "name": "ipython",
    "version": 3
   },
   "file_extension": ".py",
   "mimetype": "text/x-python",
   "name": "python",
   "nbconvert_exporter": "python",
   "pygments_lexer": "ipython3",
   "version": "3.8.5"
  },
  "toc": {
   "base_numbering": 1,
   "nav_menu": {},
   "number_sections": true,
   "sideBar": true,
   "skip_h1_title": false,
   "title_cell": "Table of Contents",
   "title_sidebar": "Contents",
   "toc_cell": false,
   "toc_position": {},
   "toc_section_display": true,
   "toc_window_display": true
  },
  "varInspector": {
   "cols": {
    "lenName": 16,
    "lenType": 16,
    "lenVar": 40
   },
   "kernels_config": {
    "python": {
     "delete_cmd_postfix": "",
     "delete_cmd_prefix": "del ",
     "library": "var_list.py",
     "varRefreshCmd": "print(var_dic_list())"
    },
    "r": {
     "delete_cmd_postfix": ") ",
     "delete_cmd_prefix": "rm(",
     "library": "var_list.r",
     "varRefreshCmd": "cat(var_dic_list()) "
    }
   },
   "types_to_exclude": [
    "module",
    "function",
    "builtin_function_or_method",
    "instance",
    "_Feature"
   ],
   "window_display": false
  }
 },
 "nbformat": 4,
 "nbformat_minor": 4
}
