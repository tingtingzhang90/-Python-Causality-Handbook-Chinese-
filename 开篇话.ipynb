{
 "cells": [
  {
   "cell_type": "markdown",
   "metadata": {},
   "source": [
    "# 献给勇敢而真实的人的因果推断\n",
    "\n",
    "![img](./data/img/brave-and-true.png)\n",
    "\n",
    "本书以一种轻松愉悦但同时严谨的方式来学习影响评估以及灵敏性分析。本书的所有代码都是基于Python实现的，且给出了我所能找到的注解。\n",
    "\n",
    "本书的第一部分包括主要的概念以及因果推断模型。你将会学到如何使用预期结果的符号标记来表示因果问题，学习因果图的概念，以及什么是偏差，怎么处理偏差。该部分的大部分内容都很完善。这部分是我在书籍、大学课程以及在线课程上找到的资料的融合。你可以把这部分视为你因果学习的坚实而安全的基础。\n",
    "\n",
    "本书的第二部分包括因果推断在现代工业界（主要是技术类）的发展以及应用。虽然第一部分主要侧重于平均因果效应（ATE），而第二部分则转向使用CATE模型进行个性化和异质性效应评估。这部分主要来自于我个人的经历，绝非完善的科学理论。这部分内容更具实验性且可能会发生变化，毕竟，我也在学习过程中。\n",
    "\n",
    "\n",
    "## 致谢\n",
    "\n",
    "我想将这整个系列视为对Joshua Angrist、Alberto Abadie 和Christopher Walters令人惊叹的计量经济学课程的致敬。第一部分中的大部分想法均来自他们在美国经济学会的课程。学习这些课程让我在2020年艰难的一年保持清醒。\n",
    "\n",
    "* [Cross-Section Econometrics](https://www.aeaweb.org/conference/cont-ed/2017-webcasts)\n",
    "* [Mastering Mostly Harmless Econometrics](https://www.aeaweb.org/conference/cont-ed/2020-webcasts)\n",
    "\n",
    "我还想推荐Angrist的精彩书籍。这些书向我展示了计量经济学，或者他们所说的“度量”，不仅非常有用，而且非常有趣。\n",
    "\n",
    "* [Mostly Harmless Econometrics](https://www.mostlyharmlesseconometrics.com/)\n",
    "* [Mastering 'Metrics](https://www.masteringmetrics.com/)\n",
    "\n",
    "我最后推荐Miguel Hernan和Jamie Robins的书。在我必须回答的最棘手的因果问题中，它一直是我值得信赖的伙伴。\n",
    "\n",
    "My final reference is Miguel Hernan and Jamie Robins' book. It has been my trustworthy companion in the most thorny causal questions I had to answer.\n",
    "\n",
    "* [Causal Inference Book](https://www.hsph.harvard.edu/miguel-hernan/causal-inference-book/)\n",
    "\n",
    "##  贡献\n",
    "\n",
    "《献给勇敢而真实的人的因果推断》是关于因果推断和统计科学的开源资料。本书仅使用基于Python的免费软件。本书的目的做到金钱以及知识上的可得到性。如果你觉得这本书有价值，并且你想支持它，请前往[Patreon](https://www.patreon.com/causal_inference_for_the_brave_and_true)。如果你还没有准备好进行金钱打赏，你也可以通过修正一些拼写错误、建议编辑或者对你不理解的段落进行反馈来提供帮助。只需转到本书的资源库并[开启一个问题](https://github.com/matheusfacure/python-causality-handbook/issues)。最后，如果你喜欢本书的内容，请把它分享给那些可能觉得有用的人，并在GitHub上给它[点赞](https://github.com/matheusfacure/python-causality-handbook/stargazers)吧。"
   ]
  }
 ],
 "metadata": {
  "kernelspec": {
   "display_name": "Python 3",
   "language": "python",
   "name": "python3"
  },
  "language_info": {
   "codemirror_mode": {
    "name": "ipython",
    "version": 3
   },
   "file_extension": ".py",
   "mimetype": "text/x-python",
   "name": "python",
   "nbconvert_exporter": "python",
   "pygments_lexer": "ipython3",
   "version": "3.8.5"
  },
  "toc": {
   "base_numbering": 1,
   "nav_menu": {},
   "number_sections": true,
   "sideBar": true,
   "skip_h1_title": false,
   "title_cell": "Table of Contents",
   "title_sidebar": "Contents",
   "toc_cell": false,
   "toc_position": {},
   "toc_section_display": true,
   "toc_window_display": false
  },
  "varInspector": {
   "cols": {
    "lenName": 16,
    "lenType": 16,
    "lenVar": 40
   },
   "kernels_config": {
    "python": {
     "delete_cmd_postfix": "",
     "delete_cmd_prefix": "del ",
     "library": "var_list.py",
     "varRefreshCmd": "print(var_dic_list())"
    },
    "r": {
     "delete_cmd_postfix": ") ",
     "delete_cmd_prefix": "rm(",
     "library": "var_list.r",
     "varRefreshCmd": "cat(var_dic_list()) "
    }
   },
   "types_to_exclude": [
    "module",
    "function",
    "builtin_function_or_method",
    "instance",
    "_Feature"
   ],
   "window_display": false
  }
 },
 "nbformat": 4,
 "nbformat_minor": 4
}
